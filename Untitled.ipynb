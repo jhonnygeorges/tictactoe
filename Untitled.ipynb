{
 "cells": [
  {
   "cell_type": "code",
   "execution_count": 1,
   "metadata": {},
   "outputs": [],
   "source": [
    "from IPython.display import clear_output\n",
    "\n",
    "def display_board(board):\n",
    "    clear_output()\n",
    "    print(board[1]+'|'+board[2]+'|'+board[3])\n",
    "    print(board[4]+'|'+board[5]+'|'+board[6])\n",
    "    print(board[7]+'|'+board[8]+'|'+board[9])"
   ]
  },
  {
   "cell_type": "code",
   "execution_count": 2,
   "metadata": {},
   "outputs": [],
   "source": [
    "def player_input():\n",
    "    marker = ''\n",
    "    while marker!='X' and marker!='O':\n",
    "        marker = input('Player 1, please choose between X or O: ').upper()\n",
    "        if marker != 'X' and marker != 'O':\n",
    "            print(\"Sorry, that's not a valid input; please choose between X or O\")\n",
    "    player1 = marker\n",
    "    if player1 == 'X':\n",
    "        player2 = 'O'\n",
    "    else:\n",
    "        player2 = 'X'\n",
    "    return player1,player2"
   ]
  },
  {
   "cell_type": "code",
   "execution_count": 3,
   "metadata": {},
   "outputs": [],
   "source": [
    "def place_marker(board,marker,position):\n",
    "    board[position] = marker"
   ]
  },
  {
   "cell_type": "code",
   "execution_count": 4,
   "metadata": {},
   "outputs": [],
   "source": [
    "def win_check(board,mark):\n",
    "    \n",
    "    return ((board[7] == mark and board[8] == mark and board[9] == mark) or # across the top\n",
    "    (board[4] == mark and board[5] == mark and board[6] == mark) or # across the middle\n",
    "    (board[1] == mark and board[2] == mark and board[3] == mark) or # across the bottom\n",
    "    (board[7] == mark and board[4] == mark and board[1] == mark) or # down the middle\n",
    "    (board[8] == mark and board[5] == mark and board[2] == mark) or # down the middle\n",
    "    (board[9] == mark and board[6] == mark and board[3] == mark) or # down the right side\n",
    "    (board[7] == mark and board[5] == mark and board[3] == mark) or # diagonal\n",
    "    (board[9] == mark and board[5] == mark and board[1] == mark)) # diagonal"
   ]
  },
  {
   "cell_type": "code",
   "execution_count": 5,
   "metadata": {},
   "outputs": [],
   "source": [
    "def user_choice():\n",
    "    player_move = 'digit'\n",
    "    acceptable_moves = ['1','2','3','4','5','6','7','8','9']\n",
    "    \n",
    "    while player_move not in acceptable_moves:\n",
    "        player_move = input('Please choose where to play (from 1 to 9): ')\n",
    "        if player_move not in acceptable_moves: #or blank_board[int(player_move)] in ['X','O']:\n",
    "            print('Sorry, that is not a valid input, please submit a digit beween 1 and 9')\n",
    "    else:\n",
    "        return player_move"
   ]
  },
  {
   "cell_type": "code",
   "execution_count": 6,
   "metadata": {},
   "outputs": [],
   "source": [
    "def full_board(board):\n",
    "    if board[1] != ' ' and board[2] != ' ' and board[3] != ' ' and board[4] != ' ' and board[5] != ' ' and board[6] != ' ' and board[7] != ' ' and board[8] != ' ' and board[9] != ' ':\n",
    "        return True\n",
    "    return False"
   ]
  },
  {
   "cell_type": "code",
   "execution_count": 18,
   "metadata": {},
   "outputs": [],
   "source": [
    "def game_on():\n",
    "    \n",
    "    blank_board = [' '] * 10\n",
    "    player1,player2 = player_input()\n",
    "    players_turn = 1\n",
    "    \n",
    "    playing = True\n",
    "    \n",
    "\n",
    "    display_board(blank_board)    \n",
    "    while playing:\n",
    "        \n",
    "        while players_turn % 2 != 0:\n",
    "            print('Player 1, your turn!')\n",
    "            position = int(user_choice())\n",
    "            while blank_board[position] != ' ':\n",
    "                print('Sorry, that place is already taken. Choose another spot')\n",
    "                position = int(user_choice())\n",
    "            place_marker(blank_board,player1,position)\n",
    "            display_board(blank_board)            \n",
    "            players_turn += 1\n",
    "            if full_board(blank_board):\n",
    "                print('Draw!')\n",
    "                game_on = False\n",
    "                break\n",
    "        \n",
    "        else: \n",
    "            print('Player 2, your turn!')\n",
    "            position = int(user_choice())\n",
    "            while blank_board[position] != ' ':\n",
    "                print('Sorry, that place is already taken. Choose another spot')\n",
    "                position = int(user_choice())\n",
    "            place_marker(blank_board,player2,position)\n",
    "            display_board(blank_board)        \n",
    "            players_turn += 1\n",
    "            if full_board(blank_board):\n",
    "                print('Draw!')\n",
    "                break\n",
    "    else:\n",
    "        print('NO IDEA')"
   ]
  },
  {
   "cell_type": "code",
   "execution_count": null,
   "metadata": {},
   "outputs": [],
   "source": [
    "game_on()"
   ]
  },
  {
   "cell_type": "code",
   "execution_count": null,
   "metadata": {},
   "outputs": [],
   "source": []
  }
 ],
 "metadata": {
  "kernelspec": {
   "display_name": "Python 3",
   "language": "python",
   "name": "python3"
  },
  "language_info": {
   "codemirror_mode": {
    "name": "ipython",
    "version": 3
   },
   "file_extension": ".py",
   "mimetype": "text/x-python",
   "name": "python",
   "nbconvert_exporter": "python",
   "pygments_lexer": "ipython3",
   "version": "3.8.5"
  }
 },
 "nbformat": 4,
 "nbformat_minor": 4
}
